{
 "cells": [
  {
   "cell_type": "markdown",
   "metadata": {},
   "source": [
    "### MACHINE LEARNING (ML) INNOVATIVE ASSIGNMENT\n",
    "\n",
    "### COURSE CODE : 2CS501\n",
    "\n",
    "### CUSTOMER CHURN PREDICTION\n",
    "\n",
    "### 21BCE006 ACHARYA VARAD\n",
    "### 21BCE081 HALPATI SAHIL\n",
    "### 22BCE501 VISHAL ARYA\n",
    "### 22BCE508 PRATHAM GUPTA"
   ]
  },
  {
   "cell_type": "code",
   "execution_count": 39,
   "metadata": {
    "_cell_guid": "b1076dfc-b9ad-4769-8c92-a6c4dae69d19",
    "_uuid": "8f2839f25d086af736a60e9eeb907d3b93b6e0e5",
    "execution": {
     "iopub.execute_input": "2022-03-06T03:32:33.905991Z",
     "iopub.status.busy": "2022-03-06T03:32:33.905585Z",
     "iopub.status.idle": "2022-03-06T03:32:33.939484Z",
     "shell.execute_reply": "2022-03-06T03:32:33.938880Z",
     "shell.execute_reply.started": "2022-03-06T03:32:33.905892Z"
    }
   },
   "outputs": [],
   "source": [
    "import numpy as np # linear algebra\n",
    "import pandas as pd # data processing, CSV file I/O (e.g. pd.read_csv)"
   ]
  },
  {
   "cell_type": "code",
   "execution_count": 40,
   "metadata": {
    "execution": {
     "iopub.execute_input": "2022-03-06T03:32:56.586925Z",
     "iopub.status.busy": "2022-03-06T03:32:56.586618Z",
     "iopub.status.idle": "2022-03-06T03:32:56.633466Z",
     "shell.execute_reply": "2022-03-06T03:32:56.632634Z",
     "shell.execute_reply.started": "2022-03-06T03:32:56.586892Z"
    }
   },
   "outputs": [],
   "source": [
    "# Customer Churn Prediction \n",
    "df = pd.read_csv('Churn_Modelling.csv')"
   ]
  },
  {
   "cell_type": "code",
   "execution_count": 41,
   "metadata": {
    "execution": {
     "iopub.execute_input": "2022-03-06T03:33:04.565582Z",
     "iopub.status.busy": "2022-03-06T03:33:04.565302Z",
     "iopub.status.idle": "2022-03-06T03:33:04.590711Z",
     "shell.execute_reply": "2022-03-06T03:33:04.590106Z",
     "shell.execute_reply.started": "2022-03-06T03:33:04.565552Z"
    }
   },
   "outputs": [
    {
     "data": {
      "text/html": [
       "<div>\n",
       "<style scoped>\n",
       "    .dataframe tbody tr th:only-of-type {\n",
       "        vertical-align: middle;\n",
       "    }\n",
       "\n",
       "    .dataframe tbody tr th {\n",
       "        vertical-align: top;\n",
       "    }\n",
       "\n",
       "    .dataframe thead th {\n",
       "        text-align: right;\n",
       "    }\n",
       "</style>\n",
       "<table border=\"1\" class=\"dataframe\">\n",
       "  <thead>\n",
       "    <tr style=\"text-align: right;\">\n",
       "      <th></th>\n",
       "      <th>RowNumber</th>\n",
       "      <th>CustomerId</th>\n",
       "      <th>Surname</th>\n",
       "      <th>CreditScore</th>\n",
       "      <th>Geography</th>\n",
       "      <th>Gender</th>\n",
       "      <th>Age</th>\n",
       "      <th>Tenure</th>\n",
       "      <th>Balance</th>\n",
       "      <th>NumOfProducts</th>\n",
       "      <th>HasCrCard</th>\n",
       "      <th>IsActiveMember</th>\n",
       "      <th>EstimatedSalary</th>\n",
       "      <th>Exited</th>\n",
       "    </tr>\n",
       "  </thead>\n",
       "  <tbody>\n",
       "    <tr>\n",
       "      <th>0</th>\n",
       "      <td>1</td>\n",
       "      <td>15634602</td>\n",
       "      <td>Hargrave</td>\n",
       "      <td>619</td>\n",
       "      <td>France</td>\n",
       "      <td>Female</td>\n",
       "      <td>42</td>\n",
       "      <td>2</td>\n",
       "      <td>0.00</td>\n",
       "      <td>1</td>\n",
       "      <td>1</td>\n",
       "      <td>1</td>\n",
       "      <td>101348.88</td>\n",
       "      <td>1</td>\n",
       "    </tr>\n",
       "    <tr>\n",
       "      <th>1</th>\n",
       "      <td>2</td>\n",
       "      <td>15647311</td>\n",
       "      <td>Hill</td>\n",
       "      <td>608</td>\n",
       "      <td>Spain</td>\n",
       "      <td>Female</td>\n",
       "      <td>41</td>\n",
       "      <td>1</td>\n",
       "      <td>83807.86</td>\n",
       "      <td>1</td>\n",
       "      <td>0</td>\n",
       "      <td>1</td>\n",
       "      <td>112542.58</td>\n",
       "      <td>0</td>\n",
       "    </tr>\n",
       "    <tr>\n",
       "      <th>2</th>\n",
       "      <td>3</td>\n",
       "      <td>15619304</td>\n",
       "      <td>Onio</td>\n",
       "      <td>502</td>\n",
       "      <td>France</td>\n",
       "      <td>Female</td>\n",
       "      <td>42</td>\n",
       "      <td>8</td>\n",
       "      <td>159660.80</td>\n",
       "      <td>3</td>\n",
       "      <td>1</td>\n",
       "      <td>0</td>\n",
       "      <td>113931.57</td>\n",
       "      <td>1</td>\n",
       "    </tr>\n",
       "    <tr>\n",
       "      <th>3</th>\n",
       "      <td>4</td>\n",
       "      <td>15701354</td>\n",
       "      <td>Boni</td>\n",
       "      <td>699</td>\n",
       "      <td>France</td>\n",
       "      <td>Female</td>\n",
       "      <td>39</td>\n",
       "      <td>1</td>\n",
       "      <td>0.00</td>\n",
       "      <td>2</td>\n",
       "      <td>0</td>\n",
       "      <td>0</td>\n",
       "      <td>93826.63</td>\n",
       "      <td>0</td>\n",
       "    </tr>\n",
       "    <tr>\n",
       "      <th>4</th>\n",
       "      <td>5</td>\n",
       "      <td>15737888</td>\n",
       "      <td>Mitchell</td>\n",
       "      <td>850</td>\n",
       "      <td>Spain</td>\n",
       "      <td>Female</td>\n",
       "      <td>43</td>\n",
       "      <td>2</td>\n",
       "      <td>125510.82</td>\n",
       "      <td>1</td>\n",
       "      <td>1</td>\n",
       "      <td>1</td>\n",
       "      <td>79084.10</td>\n",
       "      <td>0</td>\n",
       "    </tr>\n",
       "  </tbody>\n",
       "</table>\n",
       "</div>"
      ],
      "text/plain": [
       "   RowNumber  CustomerId   Surname  CreditScore Geography  Gender  Age   \n",
       "0          1    15634602  Hargrave          619    France  Female   42  \\\n",
       "1          2    15647311      Hill          608     Spain  Female   41   \n",
       "2          3    15619304      Onio          502    France  Female   42   \n",
       "3          4    15701354      Boni          699    France  Female   39   \n",
       "4          5    15737888  Mitchell          850     Spain  Female   43   \n",
       "\n",
       "   Tenure    Balance  NumOfProducts  HasCrCard  IsActiveMember   \n",
       "0       2       0.00              1          1               1  \\\n",
       "1       1   83807.86              1          0               1   \n",
       "2       8  159660.80              3          1               0   \n",
       "3       1       0.00              2          0               0   \n",
       "4       2  125510.82              1          1               1   \n",
       "\n",
       "   EstimatedSalary  Exited  \n",
       "0        101348.88       1  \n",
       "1        112542.58       0  \n",
       "2        113931.57       1  \n",
       "3         93826.63       0  \n",
       "4         79084.10       0  "
      ]
     },
     "execution_count": 41,
     "metadata": {},
     "output_type": "execute_result"
    }
   ],
   "source": [
    "df.head()"
   ]
  },
  {
   "cell_type": "code",
   "execution_count": 42,
   "metadata": {},
   "outputs": [
    {
     "data": {
      "text/plain": [
       "(10000, 14)"
      ]
     },
     "execution_count": 42,
     "metadata": {},
     "output_type": "execute_result"
    }
   ],
   "source": [
    "df.shape"
   ]
  },
  {
   "cell_type": "code",
   "execution_count": 43,
   "metadata": {
    "execution": {
     "iopub.execute_input": "2022-03-06T03:33:16.956409Z",
     "iopub.status.busy": "2022-03-06T03:33:16.956107Z",
     "iopub.status.idle": "2022-03-06T03:33:16.969099Z",
     "shell.execute_reply": "2022-03-06T03:33:16.968191Z",
     "shell.execute_reply.started": "2022-03-06T03:33:16.956376Z"
    }
   },
   "outputs": [],
   "source": [
    "# Delete RowNumber Customer Id , Surname\n",
    "df.drop(columns = ['RowNumber','CustomerId','Surname'],inplace=True)"
   ]
  },
  {
   "cell_type": "code",
   "execution_count": 44,
   "metadata": {},
   "outputs": [
    {
     "name": "stdout",
     "output_type": "stream",
     "text": [
      "<class 'pandas.core.frame.DataFrame'>\n",
      "RangeIndex: 10000 entries, 0 to 9999\n",
      "Data columns (total 11 columns):\n",
      " #   Column           Non-Null Count  Dtype  \n",
      "---  ------           --------------  -----  \n",
      " 0   CreditScore      10000 non-null  int64  \n",
      " 1   Geography        10000 non-null  object \n",
      " 2   Gender           10000 non-null  object \n",
      " 3   Age              10000 non-null  int64  \n",
      " 4   Tenure           10000 non-null  int64  \n",
      " 5   Balance          10000 non-null  float64\n",
      " 6   NumOfProducts    10000 non-null  int64  \n",
      " 7   HasCrCard        10000 non-null  int64  \n",
      " 8   IsActiveMember   10000 non-null  int64  \n",
      " 9   EstimatedSalary  10000 non-null  float64\n",
      " 10  Exited           10000 non-null  int64  \n",
      "dtypes: float64(2), int64(7), object(2)\n",
      "memory usage: 859.5+ KB\n"
     ]
    }
   ],
   "source": [
    "df.info()\n",
    "# there is no null value in the dataset"
   ]
  },
  {
   "cell_type": "code",
   "execution_count": 45,
   "metadata": {
    "execution": {
     "iopub.execute_input": "2022-03-06T03:33:25.597651Z",
     "iopub.status.busy": "2022-03-06T03:33:25.596737Z",
     "iopub.status.idle": "2022-03-06T03:33:25.613054Z",
     "shell.execute_reply": "2022-03-06T03:33:25.612113Z",
     "shell.execute_reply.started": "2022-03-06T03:33:25.597603Z"
    }
   },
   "outputs": [
    {
     "data": {
      "text/html": [
       "<div>\n",
       "<style scoped>\n",
       "    .dataframe tbody tr th:only-of-type {\n",
       "        vertical-align: middle;\n",
       "    }\n",
       "\n",
       "    .dataframe tbody tr th {\n",
       "        vertical-align: top;\n",
       "    }\n",
       "\n",
       "    .dataframe thead th {\n",
       "        text-align: right;\n",
       "    }\n",
       "</style>\n",
       "<table border=\"1\" class=\"dataframe\">\n",
       "  <thead>\n",
       "    <tr style=\"text-align: right;\">\n",
       "      <th></th>\n",
       "      <th>CreditScore</th>\n",
       "      <th>Geography</th>\n",
       "      <th>Gender</th>\n",
       "      <th>Age</th>\n",
       "      <th>Tenure</th>\n",
       "      <th>Balance</th>\n",
       "      <th>NumOfProducts</th>\n",
       "      <th>HasCrCard</th>\n",
       "      <th>IsActiveMember</th>\n",
       "      <th>EstimatedSalary</th>\n",
       "      <th>Exited</th>\n",
       "    </tr>\n",
       "  </thead>\n",
       "  <tbody>\n",
       "    <tr>\n",
       "      <th>0</th>\n",
       "      <td>619</td>\n",
       "      <td>France</td>\n",
       "      <td>Female</td>\n",
       "      <td>42</td>\n",
       "      <td>2</td>\n",
       "      <td>0.00</td>\n",
       "      <td>1</td>\n",
       "      <td>1</td>\n",
       "      <td>1</td>\n",
       "      <td>101348.88</td>\n",
       "      <td>1</td>\n",
       "    </tr>\n",
       "    <tr>\n",
       "      <th>1</th>\n",
       "      <td>608</td>\n",
       "      <td>Spain</td>\n",
       "      <td>Female</td>\n",
       "      <td>41</td>\n",
       "      <td>1</td>\n",
       "      <td>83807.86</td>\n",
       "      <td>1</td>\n",
       "      <td>0</td>\n",
       "      <td>1</td>\n",
       "      <td>112542.58</td>\n",
       "      <td>0</td>\n",
       "    </tr>\n",
       "    <tr>\n",
       "      <th>2</th>\n",
       "      <td>502</td>\n",
       "      <td>France</td>\n",
       "      <td>Female</td>\n",
       "      <td>42</td>\n",
       "      <td>8</td>\n",
       "      <td>159660.80</td>\n",
       "      <td>3</td>\n",
       "      <td>1</td>\n",
       "      <td>0</td>\n",
       "      <td>113931.57</td>\n",
       "      <td>1</td>\n",
       "    </tr>\n",
       "    <tr>\n",
       "      <th>3</th>\n",
       "      <td>699</td>\n",
       "      <td>France</td>\n",
       "      <td>Female</td>\n",
       "      <td>39</td>\n",
       "      <td>1</td>\n",
       "      <td>0.00</td>\n",
       "      <td>2</td>\n",
       "      <td>0</td>\n",
       "      <td>0</td>\n",
       "      <td>93826.63</td>\n",
       "      <td>0</td>\n",
       "    </tr>\n",
       "    <tr>\n",
       "      <th>4</th>\n",
       "      <td>850</td>\n",
       "      <td>Spain</td>\n",
       "      <td>Female</td>\n",
       "      <td>43</td>\n",
       "      <td>2</td>\n",
       "      <td>125510.82</td>\n",
       "      <td>1</td>\n",
       "      <td>1</td>\n",
       "      <td>1</td>\n",
       "      <td>79084.10</td>\n",
       "      <td>0</td>\n",
       "    </tr>\n",
       "  </tbody>\n",
       "</table>\n",
       "</div>"
      ],
      "text/plain": [
       "   CreditScore Geography  Gender  Age  Tenure    Balance  NumOfProducts   \n",
       "0          619    France  Female   42       2       0.00              1  \\\n",
       "1          608     Spain  Female   41       1   83807.86              1   \n",
       "2          502    France  Female   42       8  159660.80              3   \n",
       "3          699    France  Female   39       1       0.00              2   \n",
       "4          850     Spain  Female   43       2  125510.82              1   \n",
       "\n",
       "   HasCrCard  IsActiveMember  EstimatedSalary  Exited  \n",
       "0          1               1        101348.88       1  \n",
       "1          0               1        112542.58       0  \n",
       "2          1               0        113931.57       1  \n",
       "3          0               0         93826.63       0  \n",
       "4          1               1         79084.10       0  "
      ]
     },
     "execution_count": 45,
     "metadata": {},
     "output_type": "execute_result"
    }
   ],
   "source": [
    "df.head()"
   ]
  },
  {
   "cell_type": "code",
   "execution_count": 46,
   "metadata": {
    "execution": {
     "iopub.execute_input": "2022-03-06T03:33:36.321542Z",
     "iopub.status.busy": "2022-03-06T03:33:36.320838Z",
     "iopub.status.idle": "2022-03-06T03:33:36.333826Z",
     "shell.execute_reply": "2022-03-06T03:33:36.333097Z",
     "shell.execute_reply.started": "2022-03-06T03:33:36.321507Z"
    }
   },
   "outputs": [
    {
     "data": {
      "text/plain": [
       "Geography\n",
       "France     5014\n",
       "Germany    2509\n",
       "Spain      2477\n",
       "Name: count, dtype: int64"
      ]
     },
     "execution_count": 46,
     "metadata": {},
     "output_type": "execute_result"
    }
   ],
   "source": [
    "df['Geography'].value_counts()"
   ]
  },
  {
   "cell_type": "code",
   "execution_count": 47,
   "metadata": {
    "execution": {
     "iopub.execute_input": "2022-03-06T03:33:45.386793Z",
     "iopub.status.busy": "2022-03-06T03:33:45.385967Z",
     "iopub.status.idle": "2022-03-06T03:33:45.395330Z",
     "shell.execute_reply": "2022-03-06T03:33:45.394438Z",
     "shell.execute_reply.started": "2022-03-06T03:33:45.386756Z"
    }
   },
   "outputs": [
    {
     "data": {
      "text/plain": [
       "Gender\n",
       "Male      5457\n",
       "Female    4543\n",
       "Name: count, dtype: int64"
      ]
     },
     "execution_count": 47,
     "metadata": {},
     "output_type": "execute_result"
    }
   ],
   "source": [
    "df['Gender'].value_counts()"
   ]
  },
  {
   "cell_type": "code",
   "execution_count": 48,
   "metadata": {
    "execution": {
     "iopub.execute_input": "2022-03-06T03:33:54.382275Z",
     "iopub.status.busy": "2022-03-06T03:33:54.381775Z",
     "iopub.status.idle": "2022-03-06T03:33:54.399399Z",
     "shell.execute_reply": "2022-03-06T03:33:54.398368Z",
     "shell.execute_reply.started": "2022-03-06T03:33:54.382234Z"
    }
   },
   "outputs": [],
   "source": [
    "# One hot encoding in the category data - geography and gender\n",
    "df = pd.get_dummies(df,columns=['Geography','Gender'],drop_first=True)"
   ]
  },
  {
   "cell_type": "code",
   "execution_count": 49,
   "metadata": {
    "execution": {
     "iopub.execute_input": "2022-03-06T03:34:05.465611Z",
     "iopub.status.busy": "2022-03-06T03:34:05.465041Z",
     "iopub.status.idle": "2022-03-06T03:34:05.481994Z",
     "shell.execute_reply": "2022-03-06T03:34:05.481205Z",
     "shell.execute_reply.started": "2022-03-06T03:34:05.465567Z"
    }
   },
   "outputs": [
    {
     "data": {
      "text/html": [
       "<div>\n",
       "<style scoped>\n",
       "    .dataframe tbody tr th:only-of-type {\n",
       "        vertical-align: middle;\n",
       "    }\n",
       "\n",
       "    .dataframe tbody tr th {\n",
       "        vertical-align: top;\n",
       "    }\n",
       "\n",
       "    .dataframe thead th {\n",
       "        text-align: right;\n",
       "    }\n",
       "</style>\n",
       "<table border=\"1\" class=\"dataframe\">\n",
       "  <thead>\n",
       "    <tr style=\"text-align: right;\">\n",
       "      <th></th>\n",
       "      <th>CreditScore</th>\n",
       "      <th>Age</th>\n",
       "      <th>Tenure</th>\n",
       "      <th>Balance</th>\n",
       "      <th>NumOfProducts</th>\n",
       "      <th>HasCrCard</th>\n",
       "      <th>IsActiveMember</th>\n",
       "      <th>EstimatedSalary</th>\n",
       "      <th>Exited</th>\n",
       "      <th>Geography_Germany</th>\n",
       "      <th>Geography_Spain</th>\n",
       "      <th>Gender_Male</th>\n",
       "    </tr>\n",
       "  </thead>\n",
       "  <tbody>\n",
       "    <tr>\n",
       "      <th>0</th>\n",
       "      <td>619</td>\n",
       "      <td>42</td>\n",
       "      <td>2</td>\n",
       "      <td>0.00</td>\n",
       "      <td>1</td>\n",
       "      <td>1</td>\n",
       "      <td>1</td>\n",
       "      <td>101348.88</td>\n",
       "      <td>1</td>\n",
       "      <td>False</td>\n",
       "      <td>False</td>\n",
       "      <td>False</td>\n",
       "    </tr>\n",
       "    <tr>\n",
       "      <th>1</th>\n",
       "      <td>608</td>\n",
       "      <td>41</td>\n",
       "      <td>1</td>\n",
       "      <td>83807.86</td>\n",
       "      <td>1</td>\n",
       "      <td>0</td>\n",
       "      <td>1</td>\n",
       "      <td>112542.58</td>\n",
       "      <td>0</td>\n",
       "      <td>False</td>\n",
       "      <td>True</td>\n",
       "      <td>False</td>\n",
       "    </tr>\n",
       "    <tr>\n",
       "      <th>2</th>\n",
       "      <td>502</td>\n",
       "      <td>42</td>\n",
       "      <td>8</td>\n",
       "      <td>159660.80</td>\n",
       "      <td>3</td>\n",
       "      <td>1</td>\n",
       "      <td>0</td>\n",
       "      <td>113931.57</td>\n",
       "      <td>1</td>\n",
       "      <td>False</td>\n",
       "      <td>False</td>\n",
       "      <td>False</td>\n",
       "    </tr>\n",
       "    <tr>\n",
       "      <th>3</th>\n",
       "      <td>699</td>\n",
       "      <td>39</td>\n",
       "      <td>1</td>\n",
       "      <td>0.00</td>\n",
       "      <td>2</td>\n",
       "      <td>0</td>\n",
       "      <td>0</td>\n",
       "      <td>93826.63</td>\n",
       "      <td>0</td>\n",
       "      <td>False</td>\n",
       "      <td>False</td>\n",
       "      <td>False</td>\n",
       "    </tr>\n",
       "    <tr>\n",
       "      <th>4</th>\n",
       "      <td>850</td>\n",
       "      <td>43</td>\n",
       "      <td>2</td>\n",
       "      <td>125510.82</td>\n",
       "      <td>1</td>\n",
       "      <td>1</td>\n",
       "      <td>1</td>\n",
       "      <td>79084.10</td>\n",
       "      <td>0</td>\n",
       "      <td>False</td>\n",
       "      <td>True</td>\n",
       "      <td>False</td>\n",
       "    </tr>\n",
       "  </tbody>\n",
       "</table>\n",
       "</div>"
      ],
      "text/plain": [
       "   CreditScore  Age  Tenure    Balance  NumOfProducts  HasCrCard   \n",
       "0          619   42       2       0.00              1          1  \\\n",
       "1          608   41       1   83807.86              1          0   \n",
       "2          502   42       8  159660.80              3          1   \n",
       "3          699   39       1       0.00              2          0   \n",
       "4          850   43       2  125510.82              1          1   \n",
       "\n",
       "   IsActiveMember  EstimatedSalary  Exited  Geography_Germany   \n",
       "0               1        101348.88       1              False  \\\n",
       "1               1        112542.58       0              False   \n",
       "2               0        113931.57       1              False   \n",
       "3               0         93826.63       0              False   \n",
       "4               1         79084.10       0              False   \n",
       "\n",
       "   Geography_Spain  Gender_Male  \n",
       "0            False        False  \n",
       "1             True        False  \n",
       "2            False        False  \n",
       "3            False        False  \n",
       "4             True        False  "
      ]
     },
     "execution_count": 49,
     "metadata": {},
     "output_type": "execute_result"
    }
   ],
   "source": [
    "df.head()\n",
    "# the estimated salary and balance has large values \n",
    "# so we are going to scale this "
   ]
  },
  {
   "cell_type": "code",
   "execution_count": 50,
   "metadata": {
    "execution": {
     "iopub.execute_input": "2022-03-06T03:34:15.211980Z",
     "iopub.status.busy": "2022-03-06T03:34:15.211214Z",
     "iopub.status.idle": "2022-03-06T03:34:16.378692Z",
     "shell.execute_reply": "2022-03-06T03:34:16.377875Z",
     "shell.execute_reply.started": "2022-03-06T03:34:15.211936Z"
    }
   },
   "outputs": [],
   "source": [
    "X = df.drop(columns=['Exited'])\n",
    "y = df['Exited'].values\n",
    "\n",
    "from sklearn.model_selection import train_test_split\n",
    "X_train,X_test,y_train,y_test = train_test_split(X,y,test_size=0.2,random_state=0)"
   ]
  },
  {
   "cell_type": "code",
   "execution_count": 51,
   "metadata": {
    "execution": {
     "iopub.execute_input": "2022-03-06T03:34:23.642185Z",
     "iopub.status.busy": "2022-03-06T03:34:23.641345Z",
     "iopub.status.idle": "2022-03-06T03:34:23.656143Z",
     "shell.execute_reply": "2022-03-06T03:34:23.655395Z",
     "shell.execute_reply.started": "2022-03-06T03:34:23.642134Z"
    }
   },
   "outputs": [],
   "source": [
    "from sklearn.preprocessing import StandardScaler\n",
    "scaler = StandardScaler()\n",
    "# scaling the x_test and x_traing\n",
    "X_train_trf = scaler.fit_transform(X_train)\n",
    "X_test_trf = scaler.transform(X_test)\n",
    "\n",
    "X_train = X_train.astype(np.float32)  # Convert to float32\n",
    "y_train = y_train.astype(np.float32)  # Convert to float32\n",
    "X_test = X_test.astype(np.float32)  # Convert to float32\n",
    "y_test = y_test.astype(np.float32)  # Convert to float32\n"
   ]
  },
  {
   "cell_type": "markdown",
   "metadata": {},
   "source": [
    "### 1.GREDIENT DECENT CLASSIFFIER\n"
   ]
  },
  {
   "cell_type": "code",
   "execution_count": 52,
   "metadata": {},
   "outputs": [
    {
     "name": "stdout",
     "output_type": "stream",
     "text": [
      "Accuracy: 0.8115\n"
     ]
    },
    {
     "name": "stderr",
     "output_type": "stream",
     "text": [
      "C:\\Users\\vishal\\AppData\\Local\\Programs\\Python\\Python310\\lib\\site-packages\\sklearn\\linear_model\\_stochastic_gradient.py:163: FutureWarning: The loss 'log' was deprecated in v1.1 and will be removed in version 1.3. Use `loss='log_loss'` which is equivalent.\n",
      "  warnings.warn(\n"
     ]
    }
   ],
   "source": [
    "# Import Necessary libraries\n",
    "import pandas as pd\n",
    "from sklearn.model_selection import train_test_split\n",
    "from sklearn.linear_model import SGDClassifier\n",
    "from sklearn.preprocessing import StandardScaler\n",
    "from sklearn.compose import ColumnTransformer\n",
    "from sklearn.preprocessing import OneHotEncoder\n",
    "from sklearn.pipeline import Pipeline\n",
    "from sklearn.metrics import accuracy_score\n",
    "\n",
    "# Load the dataset\n",
    "data = pd.read_csv('Churn_Modelling.csv')  # Replace 'your_dataset.csv' with your file's name\n",
    "\n",
    "# Split features and target\n",
    "X = data.drop(['Exited', 'RowNumber', 'CustomerId', 'Surname'], axis=1)\n",
    "y = data['Exited']\n",
    "\n",
    "# Split the data\n",
    "X_train, X_test, y_train, y_test = train_test_split(X, y, test_size=0.2, random_state=42)\n",
    "\n",
    "# Define categorical columns (change the list below with the actual categorical columns)\n",
    "categorical_cols = ['Geography', 'Gender']\n",
    "\n",
    "# Define the preprocessing steps\n",
    "categorical_transformer = Pipeline(steps=[('onehot', OneHotEncoder())])\n",
    "\"\"\"OneHotEncoder(): OneHotEncoder is a transformer in scikit-learn used for converting categorical (text or discrete) data \n",
    "into one-hot encoded numerical features. One-hot encoding is a process of converting categorical variables into binary \n",
    "vectors (0 and 1) to make them suitable for machine learning algorithms. Each category is transformed into a binary vector \n",
    "where all elements are 0 except for the index that represents the category, which is marked as 1.\n",
    "The Pipeline class in scikit-learn is a way to simplify the process of building a sequence of data transformations. \n",
    "In this case, the Pipeline consists of a single step: onehot': This is a name given to the step. It's a string that identifies\n",
    "the step in the pipeline.OneHotEncoder(): This is the transformer that will be applied to the data. It's responsible for \n",
    "transforming categorical data into one-hot encoded numerical features.When you create this pipeline and later use it to \n",
    "transform your data, you can pass your raw categorical data to the categorical_transformer, and it will automatically apply \n",
    "the OneHotEncoder transformation to it. Pipelines are useful because they encapsulate multiple steps into a single object,\n",
    "making it easier to manage and apply transformations consistently across different datasets.\"\"\"\n",
    "\n",
    "preprocessor = ColumnTransformer(transformers=[('cat', categorical_transformer, categorical_cols)],remainder='passthrough')\n",
    "\"\"\"categorical_transformer: This is a Pipeline object that you defined earlier. It consists of a series of data transformation\n",
    "steps, specifically designed for processing categorical data using one-hot encoding.\n",
    "categorical_cols: This is likely a list of column names or indices in your dataset that represent the categorical features. \n",
    "categorical_cols specifies which columns in your dataset should be processed using the categorical_transformer pipeline.\n",
    "\n",
    "ColumnTransformer: ColumnTransformer is a class in scikit-learn that allows you to apply different transformers to different \n",
    "columns of your input data, and concatenate the results into a single feature space. It is particularly useful when dealing \n",
    "with datasets where different columns require different preprocessing steps.\n",
    "\n",
    "transformers=[('cat', categorical_transformer, categorical_cols)]: This parameter of ColumnTransformer takes a list of tuples, \n",
    "where each tuple contains three elements:\n",
    "'cat': A string representing the name of the transformer. This is used to identify the transformer in the transformed dataset.\n",
    "categorical_transformer: The transformer object (in this case, the Pipeline for one-hot encoding) that will be applied to the \n",
    "specified columns.\n",
    "categorical_cols: The list of column indices or names that will be processed by the categorical_transformer.\n",
    "remainder='passthrough': This parameter specifies what to do with the columns that are not specified in the transformers. \n",
    "'passthrough' means that these columns will not be transformed and will be included in the output unchanged.\n",
    "\n",
    "When you apply this ColumnTransformer to your dataset, it will process the specified categorical columns using the \n",
    "categorical_transformer (which applies one-hot encoding) and leave other columns unchanged ('passthrough'). \n",
    "The result will be a transformed dataset where categorical columns are one-hot encoded, and other columns remain the same. \n",
    "This is a powerful tool for preprocessing datasets with multiple types of features that require different transformations.\"\"\"\n",
    "\n",
    "# Define the model and preprocess data\n",
    "model = Pipeline(steps=[\n",
    "    ('preprocessor', preprocessor),\n",
    "    ('scaler', StandardScaler()),\n",
    "    ('classifier', SGDClassifier(loss='log', max_iter=1000, random_state=42))\n",
    "])\n",
    "\"\"\"preprocessor: This is a ColumnTransformer object, as explained in the previous response. It's responsible for preprocessing \n",
    "the input data, including applying one-hot encoding to categorical features and leaving other columns unchanged ('passthrough').\n",
    "\n",
    "StandardScaler(): StandardScaler is a transformer in scikit-learn used for standardizing features by removing the mean and \n",
    "scaling to unit variance. This step is crucial in many machine learning algorithms to ensure that all features have the same \n",
    "scale. It's applied after the preprocessing step.\n",
    "\n",
    "SGDClassifier(loss='log', max_iter=1000, random_state=42): This is a linear classifier called Stochastic Gradient Descent (SGD)\n",
    "Classifier. It's a type of gradient descent algorithm used for training machine learning models. In this case, it's configured \n",
    "to use the logistic loss function ('log') which makes it suitable for binary classification problems (where you have two classes)\n",
    ".max_iter specifies the maximum number of epochs, and random_state is set for reproducibility, ensuring that the same random \n",
    "initialization is used every time the model is trained.\n",
    "\n",
    "Pipeline(steps=[('preprocessor', preprocessor), ('scaler', StandardScaler()), ('classifier', SGDClassifier(...))]): \n",
    "This line creates a Pipeline object that chains together multiple steps. Each step is specified as a tuple where the first \n",
    "element is a string identifier for the step, and the second element is the corresponding transformer or estimator.\n",
    "\n",
    "'preprocessor': The preprocessor step applies the column transformation (including one-hot encoding) to the input data.\n",
    "'scaler': The StandardScaler step standardizes the features after preprocessing.\n",
    "'classifier': The SGDClassifier step is the final step, which applies the logistic regression model to the processed and scaled features.\n",
    "When you use this Pipeline to train and evaluate your model, you can pass raw input data to the pipeline, and it will \n",
    "automatically handle all the necessary preprocessing, scaling, and classification steps in the specified order. Pipelines are \n",
    "convenient for encapsulating multiple processing steps into a single object, making it easier to manage and apply the same \n",
    "transformations consistently during training and prediction.\"\"\"\n",
    "\n",
    "# Fit the model\n",
    "model.fit(X_train, y_train)\n",
    "\n",
    "# Predict and calculate accuracy\n",
    "y_pred = model.predict(X_test)\n",
    "accuracy = accuracy_score(y_test, y_pred)\n",
    "print(\"Accuracy:\", accuracy)"
   ]
  },
  {
   "cell_type": "code",
   "execution_count": 53,
   "metadata": {},
   "outputs": [
    {
     "data": {
      "image/png": "[encoded data removed]",
      "text/plain": [
       "<Figure size 400x600 with 1 Axes>"
      ]
     },
     "metadata": {},
     "output_type": "display_data"
    }
   ],
   "source": [
    "# Importing Required Libraries\n",
    "import matplotlib.pyplot as plt\n",
    "import numpy as np\n",
    "from sklearn.model_selection import train_test_split\n",
    "from sklearn.linear_model import SGDClassifier\n",
    "from sklearn.preprocessing import StandardScaler\n",
    "from sklearn.metrics import accuracy_score\n",
    "\n",
    "# Make predictions on the test set\n",
    "y_pred = model.predict(X_test)\n",
    "\n",
    "# Convert predicted and actual labels to numpy arrays for plotting\n",
    "y_test_np = np.array(y_test)\n",
    "y_pred_np = np.array(y_pred)\n",
    "\n",
    "# Plot the actual vs predicted labels\n",
    "plt.figure(figsize=(4, 6))\n",
    "plt.scatter(np.arange(len(y_test)), y_test_np, c='blue', marker='o', label='Actual')\n",
    "plt.scatter(np.arange(len(y_test)), y_pred_np, c='red', marker='x', label='Predicted')\n",
    "plt.title('Actual vs Predicted Labels')\n",
    "plt.xlabel('Data Points')\n",
    "plt.ylabel('Labels')\n",
    "plt.legend()\n",
    "plt.show()\n"
   ]
  },
  {
   "cell_type": "markdown",
   "metadata": {},
   "source": [
    "# 2.LOGISTIC REGRESSION "
   ]
  },
  {
   "cell_type": "code",
   "execution_count": 54,
   "metadata": {},
   "outputs": [],
   "source": [
    "import pandas as pd\n",
    "from sklearn.model_selection import train_test_split\n",
    "from sklearn.linear_model import LogisticRegression\n",
    "from sklearn.preprocessing import OneHotEncoder\n",
    "\n",
    "# Assuming you have a DataFrame named 'data' with features and target columns\n",
    "\n",
    "# Extract the features and target\n",
    "X = data.drop(columns=['Exited'])  # Features\n",
    "y = data['Exited']  # Target\n",
    "\n",
    "# Get categorical columns and perform one-hot encoding\n",
    "categorical_cols = X.select_dtypes(include=['object']).columns\n",
    "X_encoded = pd.get_dummies(X, columns=categorical_cols)\n",
    "\n",
    "# Split the data into training and testing sets\n",
    "X_train, X_test, y_train, y_test = train_test_split(X_encoded, y, test_size=0.2, random_state=42)\n",
    "\n",
    "# Initialize and fit the Logistic Regression model\n",
    "logistic_reg = LogisticRegression(max_iter=1000)\n",
    "logistic_reg.fit(X_train, y_train)\n",
    "\n",
    "# Make predictions on the test set\n",
    "y_pred = logistic_reg.predict(X_test)\n"
   ]
  },
  {
   "cell_type": "code",
   "execution_count": 55,
   "metadata": {},
   "outputs": [
    {
     "name": "stdout",
     "output_type": "stream",
     "text": [
      "Accuracy: 0.8035\n"
     ]
    },
    {
     "data": {
      "image/png": "[encoded data removed]",
      "text/plain": [
       "<Figure size 800x600 with 1 Axes>"
      ]
     },
     "metadata": {},
     "output_type": "display_data"
    }
   ],
   "source": [
    "from sklearn.metrics import accuracy_score\n",
    "import matplotlib.pyplot as plt\n",
    "\n",
    "# Calculate accuracy\n",
    "accuracy = accuracy_score(y_test, y_pred)\n",
    "print(f\"Accuracy: {accuracy}\")\n",
    "\n",
    "# Plot actual vs predicted labels\n",
    "plt.figure(figsize=(8, 6))\n",
    "plt.scatter(range(len(y_test)), y_test, c='blue', marker='o', label='Actual')\n",
    "plt.scatter(range(len(y_test)), y_pred, c='red', marker='x', label='Predicted')\n",
    "plt.title('Actual vs Predicted Labels (Logistic Regression)')\n",
    "plt.xlabel('Data Points')\n",
    "plt.ylabel('Labels')\n",
    "plt.legend()\n",
    "plt.show()\n"
   ]
  },
  {
   "cell_type": "markdown",
   "metadata": {},
   "source": [
    "# 3.Back propagation algorithm"
   ]
  },
  {
   "cell_type": "code",
   "execution_count": 63,
   "metadata": {},
   "outputs": [],
   "source": [
    "# Customer Churn Prediction \n",
    "df = pd.read_csv('Churn_Modelling.csv')\n",
    "# Delete RowNumber Customer Id , Surname\n",
    "df.drop(columns = ['RowNumber','CustomerId','Surname'],inplace=True)\n",
    "# One hot encoding in the category data - geography and gender\n",
    "df = pd.get_dummies(df,columns=['Geography','Gender'],drop_first=True)\n",
    "X = df.drop(columns=['Exited'])\n",
    "y = df['Exited'].values\n",
    "\n",
    "from sklearn.model_selection import train_test_split\n",
    "X_train,X_test,y_train,y_test = train_test_split(X,y,test_size=0.2,random_state=0)\n",
    "from sklearn.preprocessing import StandardScaler\n",
    "scaler = StandardScaler()\n",
    "# scaling the x_test and x_traing\n",
    "X_train_trf = scaler.fit_transform(X_train)\n",
    "X_test_trf = scaler.transform(X_test)\n",
    "\n",
    "X_train = X_train.astype(np.float32)  # Convert to float32\n",
    "y_train = y_train.astype(np.float32)  # Convert to float32\n",
    "X_test = X_test.astype(np.float32)  # Convert to float32\n",
    "y_test = y_test.astype(np.float32)  # Convert to float32"
   ]
  },
  {
   "cell_type": "code",
   "execution_count": 64,
   "metadata": {
    "execution": {
     "iopub.execute_input": "2022-03-06T03:34:31.132229Z",
     "iopub.status.busy": "2022-03-06T03:34:31.131533Z",
     "iopub.status.idle": "2022-03-06T03:34:37.435530Z",
     "shell.execute_reply": "2022-03-06T03:34:37.434835Z",
     "shell.execute_reply.started": "2022-03-06T03:34:31.132167Z"
    }
   },
   "outputs": [],
   "source": [
    "import tensorflow\n",
    "from tensorflow import keras\n",
    "from tensorflow.keras import Sequential \n",
    "from tensorflow.keras.layers import Dense"
   ]
  },
  {
   "cell_type": "code",
   "execution_count": 65,
   "metadata": {},
   "outputs": [],
   "source": [
    "import tensorflow as tf\n",
    "import numpy as np\n",
    "\n",
    "# Assuming 'numpy_array' is your NumPy array\n",
    "X_train = tf.convert_to_tensor(X_train, dtype=tf.float32)  # Adjust dtype if needed\n",
    "y_train = tf.convert_to_tensor(y_train, dtype=tf.float32)  # Adjust dtype if needed\n",
    "X_test = tf.convert_to_tensor(X_train, dtype=tf.float32)  # Adjust dtype if needed\n",
    "y_test = tf.convert_to_tensor(y_train, dtype=tf.float32)  # Adjust dtype if needed\n"
   ]
  },
  {
   "cell_type": "code",
   "execution_count": 66,
   "metadata": {
    "execution": {
     "iopub.execute_input": "2022-03-06T03:34:37.826813Z",
     "iopub.status.busy": "2022-03-06T03:34:37.826320Z",
     "iopub.status.idle": "2022-03-06T03:34:37.947521Z",
     "shell.execute_reply": "2022-03-06T03:34:37.946580Z",
     "shell.execute_reply.started": "2022-03-06T03:34:37.826746Z"
    }
   },
   "outputs": [],
   "source": [
    "model = Sequential()\n",
    "# the model has 3 layers \n",
    "# 1. Input layer\n",
    "# 2. Hidden layer\n",
    "# 3.Output layer\n",
    "model.add(Dense(11,activation='sigmoid',input_dim=11))\n",
    "model.add(Dense(11,activation='sigmoid'))\n",
    "model.add(Dense(1,activation='sigmoid'))"
   ]
  },
  {
   "cell_type": "code",
   "execution_count": 67,
   "metadata": {
    "execution": {
     "iopub.execute_input": "2022-03-06T03:34:51.251022Z",
     "iopub.status.busy": "2022-03-06T03:34:51.250291Z",
     "iopub.status.idle": "2022-03-06T03:34:51.258677Z",
     "shell.execute_reply": "2022-03-06T03:34:51.257596Z",
     "shell.execute_reply.started": "2022-03-06T03:34:51.250979Z"
    }
   },
   "outputs": [
    {
     "name": "stdout",
     "output_type": "stream",
     "text": [
      "Model: \"sequential_5\"\n",
      "_________________________________________________________________\n",
      " Layer (type)                Output Shape              Param #   \n",
      "=================================================================\n",
      " dense_15 (Dense)            (None, 11)                132       \n",
      "                                                                 \n",
      " dense_16 (Dense)            (None, 11)                132       \n",
      "                                                                 \n",
      " dense_17 (Dense)            (None, 1)                 12        \n",
      "                                                                 \n",
      "=================================================================\n",
      "Total params: 276 (1.08 KB)\n",
      "Trainable params: 276 (1.08 KB)\n",
      "Non-trainable params: 0 (0.00 Byte)\n",
      "_________________________________________________________________\n"
     ]
    }
   ],
   "source": [
    "model.summary()"
   ]
  },
  {
   "cell_type": "code",
   "execution_count": 68,
   "metadata": {
    "execution": {
     "iopub.execute_input": "2022-03-06T03:34:59.301604Z",
     "iopub.status.busy": "2022-03-06T03:34:59.301333Z",
     "iopub.status.idle": "2022-03-06T03:34:59.315593Z",
     "shell.execute_reply": "2022-03-06T03:34:59.314884Z",
     "shell.execute_reply.started": "2022-03-06T03:34:59.301574Z"
    }
   },
   "outputs": [],
   "source": [
    "model.compile(optimizer='Adam',loss='binary_crossentropy',metrics=['accuracy'])"
   ]
  },
  {
   "cell_type": "code",
   "execution_count": 69,
   "metadata": {
    "execution": {
     "iopub.execute_input": "2022-03-06T03:35:50.902485Z",
     "iopub.status.busy": "2022-03-06T03:35:50.901904Z",
     "iopub.status.idle": "2022-03-06T03:36:19.455620Z",
     "shell.execute_reply": "2022-03-06T03:36:19.454726Z",
     "shell.execute_reply.started": "2022-03-06T03:35:50.902437Z"
    },
    "scrolled": false
   },
   "outputs": [
    {
     "name": "stdout",
     "output_type": "stream",
     "text": [
      "Epoch 1/100\n",
      "128/128 [==============================] - 3s 9ms/step - loss: 0.5764 - accuracy: 0.7606 - val_loss: 0.5091 - val_accuracy: 0.7969\n",
      "Epoch 2/100\n",
      "128/128 [==============================] - 1s 4ms/step - loss: 0.5041 - accuracy: 0.7958 - val_loss: 0.4993 - val_accuracy: 0.7969\n",
      "Epoch 3/100\n",
      "128/128 [==============================] - 1s 4ms/step - loss: 0.5015 - accuracy: 0.7958 - val_loss: 0.4982 - val_accuracy: 0.7969\n",
      "Epoch 4/100\n",
      "128/128 [==============================] - 1s 4ms/step - loss: 0.5010 - accuracy: 0.7958 - val_loss: 0.4976 - val_accuracy: 0.7969\n",
      "Epoch 5/100\n",
      "128/128 [==============================] - 0s 4ms/step - loss: 0.5005 - accuracy: 0.7958 - val_loss: 0.4971 - val_accuracy: 0.7969\n",
      "Epoch 6/100\n",
      "128/128 [==============================] - 1s 4ms/step - loss: 0.5012 - accuracy: 0.7958 - val_loss: 0.4973 - val_accuracy: 0.7969\n",
      "Epoch 7/100\n",
      "128/128 [==============================] - 1s 4ms/step - loss: 0.5004 - accuracy: 0.7958 - val_loss: 0.4961 - val_accuracy: 0.7969\n",
      "Epoch 8/100\n",
      "128/128 [==============================] - 0s 4ms/step - loss: 0.5005 - accuracy: 0.7958 - val_loss: 0.4964 - val_accuracy: 0.7969\n",
      "Epoch 9/100\n",
      "128/128 [==============================] - 0s 4ms/step - loss: 0.5009 - accuracy: 0.7958 - val_loss: 0.4975 - val_accuracy: 0.7969\n",
      "Epoch 10/100\n",
      "128/128 [==============================] - 1s 4ms/step - loss: 0.5011 - accuracy: 0.7958 - val_loss: 0.4969 - val_accuracy: 0.7969\n",
      "Epoch 11/100\n",
      "128/128 [==============================] - 1s 4ms/step - loss: 0.5009 - accuracy: 0.7958 - val_loss: 0.4970 - val_accuracy: 0.7969\n",
      "Epoch 12/100\n",
      "128/128 [==============================] - 1s 4ms/step - loss: 0.5009 - accuracy: 0.7958 - val_loss: 0.4966 - val_accuracy: 0.7969\n",
      "Epoch 13/100\n",
      "128/128 [==============================] - 1s 4ms/step - loss: 0.5005 - accuracy: 0.7958 - val_loss: 0.4965 - val_accuracy: 0.7969\n",
      "Epoch 14/100\n",
      "128/128 [==============================] - 1s 4ms/step - loss: 0.5006 - accuracy: 0.7958 - val_loss: 0.4961 - val_accuracy: 0.7969\n",
      "Epoch 15/100\n",
      "128/128 [==============================] - 0s 4ms/step - loss: 0.5005 - accuracy: 0.7958 - val_loss: 0.4959 - val_accuracy: 0.7969\n",
      "Epoch 16/100\n",
      "128/128 [==============================] - 0s 4ms/step - loss: 0.5002 - accuracy: 0.7958 - val_loss: 0.4963 - val_accuracy: 0.7969\n",
      "Epoch 17/100\n",
      "128/128 [==============================] - 0s 4ms/step - loss: 0.5003 - accuracy: 0.7958 - val_loss: 0.4958 - val_accuracy: 0.7969\n",
      "Epoch 18/100\n",
      "128/128 [==============================] - 1s 4ms/step - loss: 0.5002 - accuracy: 0.7958 - val_loss: 0.4959 - val_accuracy: 0.7969\n",
      "Epoch 19/100\n",
      "128/128 [==============================] - 1s 4ms/step - loss: 0.4999 - accuracy: 0.7958 - val_loss: 0.4960 - val_accuracy: 0.7969\n",
      "Epoch 20/100\n",
      "128/128 [==============================] - 1s 4ms/step - loss: 0.4999 - accuracy: 0.7958 - val_loss: 0.4957 - val_accuracy: 0.7969\n",
      "Epoch 21/100\n",
      "128/128 [==============================] - 1s 4ms/step - loss: 0.4998 - accuracy: 0.7958 - val_loss: 0.4957 - val_accuracy: 0.7969\n",
      "Epoch 22/100\n",
      "128/128 [==============================] - 1s 4ms/step - loss: 0.5000 - accuracy: 0.7958 - val_loss: 0.4957 - val_accuracy: 0.7969\n",
      "Epoch 23/100\n",
      "128/128 [==============================] - 0s 4ms/step - loss: 0.4998 - accuracy: 0.7958 - val_loss: 0.4954 - val_accuracy: 0.7969\n",
      "Epoch 24/100\n",
      "128/128 [==============================] - 1s 4ms/step - loss: 0.4997 - accuracy: 0.7958 - val_loss: 0.4953 - val_accuracy: 0.7969\n",
      "Epoch 25/100\n",
      "128/128 [==============================] - 1s 4ms/step - loss: 0.5002 - accuracy: 0.7958 - val_loss: 0.4962 - val_accuracy: 0.7969\n",
      "Epoch 26/100\n",
      "128/128 [==============================] - 1s 4ms/step - loss: 0.4998 - accuracy: 0.7958 - val_loss: 0.4966 - val_accuracy: 0.7969\n",
      "Epoch 27/100\n",
      "128/128 [==============================] - 1s 4ms/step - loss: 0.5000 - accuracy: 0.7958 - val_loss: 0.4961 - val_accuracy: 0.7969\n",
      "Epoch 28/100\n",
      "128/128 [==============================] - 1s 4ms/step - loss: 0.5000 - accuracy: 0.7958 - val_loss: 0.4960 - val_accuracy: 0.7969\n",
      "Epoch 29/100\n",
      "128/128 [==============================] - 1s 4ms/step - loss: 0.5000 - accuracy: 0.7958 - val_loss: 0.4965 - val_accuracy: 0.7969\n",
      "Epoch 30/100\n",
      "128/128 [==============================] - 0s 4ms/step - loss: 0.5001 - accuracy: 0.7958 - val_loss: 0.4964 - val_accuracy: 0.7969\n",
      "Epoch 31/100\n",
      "128/128 [==============================] - 0s 4ms/step - loss: 0.5000 - accuracy: 0.7958 - val_loss: 0.4964 - val_accuracy: 0.7969\n",
      "Epoch 32/100\n",
      "128/128 [==============================] - 1s 4ms/step - loss: 0.5000 - accuracy: 0.7958 - val_loss: 0.4962 - val_accuracy: 0.7969\n",
      "Epoch 33/100\n",
      "128/128 [==============================] - 1s 4ms/step - loss: 0.5000 - accuracy: 0.7958 - val_loss: 0.4965 - val_accuracy: 0.7969\n",
      "Epoch 34/100\n",
      "128/128 [==============================] - 1s 4ms/step - loss: 0.4998 - accuracy: 0.7958 - val_loss: 0.4964 - val_accuracy: 0.7969\n",
      "Epoch 35/100\n",
      "128/128 [==============================] - 1s 4ms/step - loss: 0.4996 - accuracy: 0.7958 - val_loss: 0.4961 - val_accuracy: 0.7969\n",
      "Epoch 36/100\n",
      "128/128 [==============================] - 1s 4ms/step - loss: 0.5000 - accuracy: 0.7958 - val_loss: 0.4958 - val_accuracy: 0.7969\n",
      "Epoch 37/100\n",
      "128/128 [==============================] - 0s 4ms/step - loss: 0.4997 - accuracy: 0.7958 - val_loss: 0.4966 - val_accuracy: 0.7969\n",
      "Epoch 38/100\n",
      "128/128 [==============================] - 1s 4ms/step - loss: 0.5000 - accuracy: 0.7958 - val_loss: 0.4962 - val_accuracy: 0.7969\n",
      "Epoch 39/100\n",
      "128/128 [==============================] - 1s 5ms/step - loss: 0.4998 - accuracy: 0.7958 - val_loss: 0.4960 - val_accuracy: 0.7969\n",
      "Epoch 40/100\n",
      "128/128 [==============================] - 0s 4ms/step - loss: 0.4998 - accuracy: 0.7958 - val_loss: 0.4960 - val_accuracy: 0.7969\n",
      "Epoch 41/100\n",
      "128/128 [==============================] - 1s 4ms/step - loss: 0.4999 - accuracy: 0.7958 - val_loss: 0.4959 - val_accuracy: 0.7969\n",
      "Epoch 42/100\n",
      "128/128 [==============================] - 1s 4ms/step - loss: 0.4998 - accuracy: 0.7958 - val_loss: 0.4961 - val_accuracy: 0.7969\n",
      "Epoch 43/100\n",
      "128/128 [==============================] - 0s 4ms/step - loss: 0.4999 - accuracy: 0.7958 - val_loss: 0.4959 - val_accuracy: 0.7969\n",
      "Epoch 44/100\n",
      "128/128 [==============================] - 0s 4ms/step - loss: 0.4999 - accuracy: 0.7958 - val_loss: 0.4963 - val_accuracy: 0.7969\n",
      "Epoch 45/100\n",
      "128/128 [==============================] - 0s 4ms/step - loss: 0.4998 - accuracy: 0.7958 - val_loss: 0.4958 - val_accuracy: 0.7969\n",
      "Epoch 46/100\n",
      "128/128 [==============================] - 0s 4ms/step - loss: 0.4997 - accuracy: 0.7958 - val_loss: 0.4958 - val_accuracy: 0.7969\n",
      "Epoch 47/100\n",
      "128/128 [==============================] - 0s 4ms/step - loss: 0.4996 - accuracy: 0.7958 - val_loss: 0.4959 - val_accuracy: 0.7969\n",
      "Epoch 48/100\n",
      "128/128 [==============================] - 0s 4ms/step - loss: 0.4997 - accuracy: 0.7958 - val_loss: 0.4958 - val_accuracy: 0.7969\n",
      "Epoch 49/100\n",
      "128/128 [==============================] - 1s 4ms/step - loss: 0.4996 - accuracy: 0.7958 - val_loss: 0.4960 - val_accuracy: 0.7969\n",
      "Epoch 50/100\n",
      "128/128 [==============================] - 0s 4ms/step - loss: 0.4998 - accuracy: 0.7958 - val_loss: 0.4958 - val_accuracy: 0.7969\n",
      "Epoch 51/100\n",
      "128/128 [==============================] - 1s 4ms/step - loss: 0.4999 - accuracy: 0.7958 - val_loss: 0.4958 - val_accuracy: 0.7969\n",
      "Epoch 52/100\n",
      "128/128 [==============================] - 1s 5ms/step - loss: 0.4996 - accuracy: 0.7958 - val_loss: 0.4958 - val_accuracy: 0.7969\n",
      "Epoch 53/100\n",
      "128/128 [==============================] - 1s 5ms/step - loss: 0.4998 - accuracy: 0.7958 - val_loss: 0.4958 - val_accuracy: 0.7969\n",
      "Epoch 54/100\n",
      "128/128 [==============================] - 1s 5ms/step - loss: 0.4998 - accuracy: 0.7958 - val_loss: 0.4957 - val_accuracy: 0.7969\n",
      "Epoch 55/100\n",
      "128/128 [==============================] - 1s 4ms/step - loss: 0.4997 - accuracy: 0.7958 - val_loss: 0.4956 - val_accuracy: 0.7969\n",
      "Epoch 56/100\n",
      "128/128 [==============================] - 1s 4ms/step - loss: 0.4996 - accuracy: 0.7958 - val_loss: 0.4957 - val_accuracy: 0.7969\n",
      "Epoch 57/100\n",
      "128/128 [==============================] - 0s 4ms/step - loss: 0.4998 - accuracy: 0.7958 - val_loss: 0.4957 - val_accuracy: 0.7969\n"
     ]
    },
    {
     "name": "stdout",
     "output_type": "stream",
     "text": [
      "Epoch 58/100\n",
      "128/128 [==============================] - 0s 4ms/step - loss: 0.4998 - accuracy: 0.7958 - val_loss: 0.4956 - val_accuracy: 0.7969\n",
      "Epoch 59/100\n",
      "128/128 [==============================] - 0s 4ms/step - loss: 0.4997 - accuracy: 0.7958 - val_loss: 0.4956 - val_accuracy: 0.7969\n",
      "Epoch 60/100\n",
      "128/128 [==============================] - 0s 4ms/step - loss: 0.4997 - accuracy: 0.7958 - val_loss: 0.4955 - val_accuracy: 0.7969\n",
      "Epoch 61/100\n",
      "128/128 [==============================] - 0s 4ms/step - loss: 0.4996 - accuracy: 0.7958 - val_loss: 0.4955 - val_accuracy: 0.7969\n",
      "Epoch 62/100\n",
      "128/128 [==============================] - 0s 4ms/step - loss: 0.4991 - accuracy: 0.7958 - val_loss: 0.4969 - val_accuracy: 0.7969\n",
      "Epoch 63/100\n",
      "128/128 [==============================] - 0s 4ms/step - loss: 0.5002 - accuracy: 0.7958 - val_loss: 0.4956 - val_accuracy: 0.7969\n",
      "Epoch 64/100\n",
      "128/128 [==============================] - 0s 4ms/step - loss: 0.4997 - accuracy: 0.7958 - val_loss: 0.4955 - val_accuracy: 0.7969\n",
      "Epoch 65/100\n",
      "128/128 [==============================] - 0s 4ms/step - loss: 0.4996 - accuracy: 0.7958 - val_loss: 0.4954 - val_accuracy: 0.7969\n",
      "Epoch 66/100\n",
      "128/128 [==============================] - 0s 4ms/step - loss: 0.4997 - accuracy: 0.7958 - val_loss: 0.4953 - val_accuracy: 0.7969\n",
      "Epoch 67/100\n",
      "128/128 [==============================] - 0s 4ms/step - loss: 0.4997 - accuracy: 0.7958 - val_loss: 0.4954 - val_accuracy: 0.7969\n",
      "Epoch 68/100\n",
      "128/128 [==============================] - 1s 4ms/step - loss: 0.4996 - accuracy: 0.7958 - val_loss: 0.4954 - val_accuracy: 0.7969\n",
      "Epoch 69/100\n",
      "128/128 [==============================] - 0s 4ms/step - loss: 0.4996 - accuracy: 0.7958 - val_loss: 0.4957 - val_accuracy: 0.7969\n",
      "Epoch 70/100\n",
      "128/128 [==============================] - 0s 4ms/step - loss: 0.4995 - accuracy: 0.7958 - val_loss: 0.4953 - val_accuracy: 0.7969\n",
      "Epoch 71/100\n",
      "128/128 [==============================] - 0s 4ms/step - loss: 0.4996 - accuracy: 0.7958 - val_loss: 0.4954 - val_accuracy: 0.7969\n",
      "Epoch 72/100\n",
      "128/128 [==============================] - 0s 4ms/step - loss: 0.4995 - accuracy: 0.7958 - val_loss: 0.4954 - val_accuracy: 0.7969\n",
      "Epoch 73/100\n",
      "128/128 [==============================] - 0s 4ms/step - loss: 0.4996 - accuracy: 0.7958 - val_loss: 0.4954 - val_accuracy: 0.7969\n",
      "Epoch 74/100\n",
      "128/128 [==============================] - 0s 4ms/step - loss: 0.4996 - accuracy: 0.7958 - val_loss: 0.4954 - val_accuracy: 0.7969\n",
      "Epoch 75/100\n",
      "128/128 [==============================] - 0s 4ms/step - loss: 0.4995 - accuracy: 0.7958 - val_loss: 0.4955 - val_accuracy: 0.7969\n",
      "Epoch 76/100\n",
      "128/128 [==============================] - 1s 4ms/step - loss: 0.4995 - accuracy: 0.7958 - val_loss: 0.4955 - val_accuracy: 0.7969\n",
      "Epoch 77/100\n",
      "128/128 [==============================] - 0s 4ms/step - loss: 0.4998 - accuracy: 0.7958 - val_loss: 0.4957 - val_accuracy: 0.7969\n",
      "Epoch 78/100\n",
      "128/128 [==============================] - 0s 4ms/step - loss: 0.4995 - accuracy: 0.7958 - val_loss: 0.4954 - val_accuracy: 0.7969\n",
      "Epoch 79/100\n",
      "128/128 [==============================] - 0s 4ms/step - loss: 0.4995 - accuracy: 0.7958 - val_loss: 0.4956 - val_accuracy: 0.7969\n",
      "Epoch 80/100\n",
      "128/128 [==============================] - 0s 4ms/step - loss: 0.4997 - accuracy: 0.7958 - val_loss: 0.4957 - val_accuracy: 0.7969\n",
      "Epoch 81/100\n",
      "128/128 [==============================] - 0s 4ms/step - loss: 0.4996 - accuracy: 0.7958 - val_loss: 0.4955 - val_accuracy: 0.7969\n",
      "Epoch 82/100\n",
      "128/128 [==============================] - 0s 4ms/step - loss: 0.4994 - accuracy: 0.7958 - val_loss: 0.4957 - val_accuracy: 0.7969\n",
      "Epoch 83/100\n",
      "128/128 [==============================] - 0s 4ms/step - loss: 0.4996 - accuracy: 0.7958 - val_loss: 0.4955 - val_accuracy: 0.7969\n",
      "Epoch 84/100\n",
      "128/128 [==============================] - 0s 4ms/step - loss: 0.4996 - accuracy: 0.7958 - val_loss: 0.4956 - val_accuracy: 0.7969\n",
      "Epoch 85/100\n",
      "128/128 [==============================] - 1s 4ms/step - loss: 0.4996 - accuracy: 0.7958 - val_loss: 0.4955 - val_accuracy: 0.7969\n",
      "Epoch 86/100\n",
      "128/128 [==============================] - 0s 4ms/step - loss: 0.4996 - accuracy: 0.7958 - val_loss: 0.4955 - val_accuracy: 0.7969\n",
      "Epoch 87/100\n",
      "128/128 [==============================] - 0s 4ms/step - loss: 0.4996 - accuracy: 0.7958 - val_loss: 0.4955 - val_accuracy: 0.7969\n",
      "Epoch 88/100\n",
      "128/128 [==============================] - 0s 4ms/step - loss: 0.4995 - accuracy: 0.7958 - val_loss: 0.4958 - val_accuracy: 0.7969\n",
      "Epoch 89/100\n",
      "128/128 [==============================] - 0s 4ms/step - loss: 0.4992 - accuracy: 0.7958 - val_loss: 0.4962 - val_accuracy: 0.7969\n",
      "Epoch 90/100\n",
      "128/128 [==============================] - 0s 4ms/step - loss: 0.4996 - accuracy: 0.7958 - val_loss: 0.4958 - val_accuracy: 0.7969\n",
      "Epoch 91/100\n",
      "128/128 [==============================] - 0s 4ms/step - loss: 0.4995 - accuracy: 0.7958 - val_loss: 0.4959 - val_accuracy: 0.7969\n",
      "Epoch 92/100\n",
      "128/128 [==============================] - 0s 4ms/step - loss: 0.4995 - accuracy: 0.7958 - val_loss: 0.4962 - val_accuracy: 0.7969\n",
      "Epoch 93/100\n",
      "128/128 [==============================] - 0s 4ms/step - loss: 0.4999 - accuracy: 0.7958 - val_loss: 0.4958 - val_accuracy: 0.7969\n",
      "Epoch 94/100\n",
      "128/128 [==============================] - 0s 4ms/step - loss: 0.4995 - accuracy: 0.7958 - val_loss: 0.4959 - val_accuracy: 0.7969\n",
      "Epoch 95/100\n",
      "128/128 [==============================] - 1s 4ms/step - loss: 0.4994 - accuracy: 0.7958 - val_loss: 0.4959 - val_accuracy: 0.7969\n",
      "Epoch 96/100\n",
      "128/128 [==============================] - 0s 4ms/step - loss: 0.4996 - accuracy: 0.7958 - val_loss: 0.4957 - val_accuracy: 0.7969\n",
      "Epoch 97/100\n",
      "128/128 [==============================] - 0s 4ms/step - loss: 0.4996 - accuracy: 0.7958 - val_loss: 0.4957 - val_accuracy: 0.7969\n",
      "Epoch 98/100\n",
      "128/128 [==============================] - 0s 4ms/step - loss: 0.4994 - accuracy: 0.7958 - val_loss: 0.4958 - val_accuracy: 0.7969\n",
      "Epoch 99/100\n",
      "128/128 [==============================] - 0s 4ms/step - loss: 0.4997 - accuracy: 0.7958 - val_loss: 0.4956 - val_accuracy: 0.7969\n",
      "Epoch 100/100\n",
      "128/128 [==============================] - 0s 4ms/step - loss: 0.4995 - accuracy: 0.7958 - val_loss: 0.4956 - val_accuracy: 0.7969\n"
     ]
    }
   ],
   "source": [
    "history = model.fit(X_train,y_train,batch_size=50,epochs=100,verbose=1,validation_split=0.2)"
   ]
  },
  {
   "cell_type": "code",
   "execution_count": 70,
   "metadata": {},
   "outputs": [
    {
     "data": {
      "text/plain": [
       "[array([[ 0.4227575 ,  0.2789843 ,  0.00927129,  0.07537018,  0.04231213,\n",
       "         -0.01122192, -0.40946084,  0.35397756, -0.01484573, -0.00331532,\n",
       "          0.158535  ],\n",
       "        [ 0.01650542,  0.4713949 , -0.29189035,  0.38013282,  0.46381077,\n",
       "         -0.08376031,  0.10474056, -0.24746308,  0.30551428, -0.2349159 ,\n",
       "         -0.49321613],\n",
       "        [-0.07480079,  0.51162535, -0.39453092,  0.48055705,  0.08702226,\n",
       "          0.03397112, -0.10668805, -0.34828508, -0.36117077, -0.03291122,\n",
       "         -0.43731698],\n",
       "        [ 0.27840132,  0.20757306,  0.27598447, -0.3351086 ,  0.00965391,\n",
       "          0.00516989, -0.3889233 ,  0.5065561 ,  0.25744158, -0.38342187,\n",
       "          0.46685648],\n",
       "        [ 0.28999943, -0.22807476, -0.54945654,  0.11679339,  0.66746724,\n",
       "          0.17709449,  0.5082862 ,  0.3994851 ,  0.02293599, -0.1012206 ,\n",
       "          0.00747895],\n",
       "        [ 0.20325345, -0.02423689, -0.49174196,  0.29294387, -0.09315012,\n",
       "          0.35760322,  0.43129665,  0.18941814, -0.10057697,  0.3304358 ,\n",
       "         -0.2240344 ],\n",
       "        [ 0.43648875,  0.4236384 , -0.5304801 ,  0.31236604,  0.21005952,\n",
       "         -0.31667468,  0.1183418 , -0.34476668,  0.4102865 ,  0.6230654 ,\n",
       "         -0.46197295],\n",
       "        [ 0.49602634,  0.02321887, -0.28782797,  0.2794957 ,  0.1795974 ,\n",
       "          0.16118954, -0.39362255,  0.4438457 , -0.40811327,  0.15311144,\n",
       "          0.28192955],\n",
       "        [ 0.35173303,  0.25971   ,  0.02259849,  0.38703844, -0.03255215,\n",
       "          0.34790388, -0.3085041 , -0.28870055,  0.07959342,  0.39927542,\n",
       "          0.14634436],\n",
       "        [-0.42717403, -0.3146878 , -0.5366426 ,  0.28121302,  0.18198627,\n",
       "         -0.47249028,  0.396209  ,  0.26699334,  0.3845892 ,  0.37742963,\n",
       "         -0.3767498 ],\n",
       "        [ 0.16470659,  0.09417731,  0.41205823, -0.34285837,  0.75896376,\n",
       "         -0.19691442, -0.10183364,  0.08271909, -0.22691467, -0.16773972,\n",
       "          0.37708116]], dtype=float32),\n",
       " array([ 0.0000000e+00,  0.0000000e+00, -1.4132494e-01, -8.3552534e-03,\n",
       "         3.1851983e-01,  1.4746471e-01,  0.0000000e+00,  0.0000000e+00,\n",
       "        -3.9976818e-14,  1.9484349e-01,  0.0000000e+00], dtype=float32)]"
      ]
     },
     "execution_count": 70,
     "metadata": {},
     "output_type": "execute_result"
    }
   ],
   "source": [
    "model.layers[0].get_weights()"
   ]
  },
  {
   "cell_type": "code",
   "execution_count": 71,
   "metadata": {
    "execution": {
     "iopub.execute_input": "2022-03-06T03:36:33.569903Z",
     "iopub.status.busy": "2022-03-06T03:36:33.569599Z",
     "iopub.status.idle": "2022-03-06T03:36:33.770856Z",
     "shell.execute_reply": "2022-03-06T03:36:33.770114Z",
     "shell.execute_reply.started": "2022-03-06T03:36:33.569868Z"
    }
   },
   "outputs": [
    {
     "name": "stdout",
     "output_type": "stream",
     "text": [
      "250/250 [==============================] - 1s 2ms/step\n"
     ]
    }
   ],
   "source": [
    "y_pred=model.predict(X_test)\n",
    "from sklearn.metrics import accuracy_score,confusion_matrix"
   ]
  },
  {
   "cell_type": "code",
   "execution_count": 72,
   "metadata": {
    "execution": {
     "iopub.execute_input": "2022-03-06T03:36:43.782192Z",
     "iopub.status.busy": "2022-03-06T03:36:43.781671Z",
     "iopub.status.idle": "2022-03-06T03:36:43.789507Z",
     "shell.execute_reply": "2022-03-06T03:36:43.788484Z",
     "shell.execute_reply.started": "2022-03-06T03:36:43.782156Z"
    }
   },
   "outputs": [
    {
     "name": "stdout",
     "output_type": "stream",
     "text": [
      "[[6368    0]\n",
      " [1632    0]] 0.796\n"
     ]
    }
   ],
   "source": [
    "y_pred=[1 if  i > 0.5  else 0     for i in y_pred ]\n",
    "print(confusion_matrix(y_test,y_pred),accuracy_score(y_test,y_pred))"
   ]
  },
  {
   "cell_type": "code",
   "execution_count": 73,
   "metadata": {
    "execution": {
     "iopub.execute_input": "2022-03-06T03:36:53.420271Z",
     "iopub.status.busy": "2022-03-06T03:36:53.419840Z",
     "iopub.status.idle": "2022-03-06T03:36:53.425184Z",
     "shell.execute_reply": "2022-03-06T03:36:53.424317Z",
     "shell.execute_reply.started": "2022-03-06T03:36:53.420233Z"
    }
   },
   "outputs": [
    {
     "name": "stdout",
     "output_type": "stream",
     "text": [
      "250/250 [==============================] - 1s 2ms/step\n",
      "[[6368    0]\n",
      " [1632    0]] 0.796\n"
     ]
    }
   ],
   "source": [
    "y_logs=model.predict(X_test)\n",
    "y_logs=np.where(y_logs>0.5,1,0)\n",
    "print(confusion_matrix(y_test,y_logs),accuracy_score(y_logs,y_test))"
   ]
  },
  {
   "cell_type": "code",
   "execution_count": 74,
   "metadata": {
    "execution": {
     "iopub.execute_input": "2022-03-06T03:37:01.490157Z",
     "iopub.status.busy": "2022-03-06T03:37:01.489866Z",
     "iopub.status.idle": "2022-03-06T03:37:01.498513Z",
     "shell.execute_reply": "2022-03-06T03:37:01.497608Z",
     "shell.execute_reply.started": "2022-03-06T03:37:01.490129Z"
    }
   },
   "outputs": [
    {
     "data": {
      "text/plain": [
       "0.796"
      ]
     },
     "execution_count": 74,
     "metadata": {},
     "output_type": "execute_result"
    }
   ],
   "source": [
    "from sklearn.metrics import accuracy_score\n",
    "accuracy_score(y_test,y_pred)"
   ]
  },
  {
   "cell_type": "code",
   "execution_count": 75,
   "metadata": {
    "execution": {
     "iopub.execute_input": "2022-03-06T03:37:10.534504Z",
     "iopub.status.busy": "2022-03-06T03:37:10.534076Z",
     "iopub.status.idle": "2022-03-06T03:37:10.742592Z",
     "shell.execute_reply": "2022-03-06T03:37:10.741662Z",
     "shell.execute_reply.started": "2022-03-06T03:37:10.534473Z"
    }
   },
   "outputs": [
    {
     "data": {
      "text/plain": [
       "[<matplotlib.lines.Line2D at 0x2149351ff10>]"
      ]
     },
     "execution_count": 75,
     "metadata": {},
     "output_type": "execute_result"
    },
    {
     "data": {
      "image/png": "[encoded data removed]",
      "text/plain": [
       "<Figure size 640x480 with 1 Axes>"
      ]
     },
     "metadata": {},
     "output_type": "display_data"
    }
   ],
   "source": [
    "import matplotlib.pyplot as plt\n",
    "\n",
    "plt.plot(history.history['loss'])\n",
    "plt.plot(history.history['val_loss'])"
   ]
  },
  {
   "cell_type": "code",
   "execution_count": 76,
   "metadata": {},
   "outputs": [
    {
     "name": "stderr",
     "output_type": "stream",
     "text": [
      "C:\\Users\\vishal\\AppData\\Local\\Programs\\Python\\Python310\\lib\\site-packages\\keras\\src\\engine\\training.py:3079: UserWarning: You are saving your model as an HDF5 file via `model.save()`. This file format is considered legacy. We recommend using instead the native Keras format, e.g. `model.save('my_model.keras')`.\n",
      "  saving_api.save_model(\n"
     ]
    }
   ],
   "source": [
    "# Assuming 'model' is the variable that holds your trained model\n",
    "model.save('my_model.h5')\n"
   ]
  },
  {
   "cell_type": "code",
   "execution_count": 77,
   "metadata": {},
   "outputs": [],
   "source": [
    "import pickle"
   ]
  },
  {
   "cell_type": "code",
   "execution_count": 78,
   "metadata": {},
   "outputs": [],
   "source": [
    "pickle.dump(df, open('customer_churn.pkl','wb'))"
   ]
  },
  {
   "cell_type": "code",
   "execution_count": 79,
   "metadata": {},
   "outputs": [],
   "source": [
    "with open('ann_model.pkl', 'wb') as file:\n",
    "    pickle.dump(model, file)"
   ]
  },
  {
   "cell_type": "code",
   "execution_count": null,
   "metadata": {},
   "outputs": [],
   "source": []
  }
 ],
 "metadata": {
  "kernelspec": {
   "display_name": "Python 3 (ipykernel)",
   "language": "python",
   "name": "python3"
  },
  "language_info": {
   "codemirror_mode": {
    "name": "ipython",
    "version": 3
   },
   "file_extension": ".py",
   "mimetype": "text/x-python",
   "name": "python",
   "nbconvert_exporter": "python",
   "pygments_lexer": "ipython3",
   "version": "3.10.7"
  }
 },
 "nbformat": 4,
 "nbformat_minor": 4
}
